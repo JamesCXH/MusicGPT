{
  "cells": [
    {
      "cell_type": "code",
      "execution_count": null,
      "metadata": {
        "colab": {
          "base_uri": "https://localhost:8080/"
        },
        "id": "v_siVy7T-jwZ",
        "outputId": "dd856291-68d8-4786-cfbd-f2aea09a9255"
      },
      "outputs": [],
      "source": [
        "! git clone https://github.com/verammaz/MusicGPT.git"
      ]
    },
    {
      "cell_type": "code",
      "execution_count": null,
      "metadata": {
        "colab": {
          "base_uri": "https://localhost:8080/"
        },
        "id": "bHe51Bjj-u5Q",
        "outputId": "3eaa5ff8-f440-4f35-cf49-2c728a3eebec"
      },
      "outputs": [],
      "source": [
        "cd /content/MusicGPT/"
      ]
    },
    {
      "cell_type": "code",
      "execution_count": null,
      "metadata": {
        "colab": {
          "base_uri": "https://localhost:8080/"
        },
        "id": "XB8h0Ez1AYVP",
        "outputId": "4ec97ea3-cce2-4548-dae3-8dbf12bb76b8"
      },
      "outputs": [],
      "source": [
        "! pwd"
      ]
    },
    {
      "cell_type": "code",
      "execution_count": null,
      "metadata": {
        "colab": {
          "base_uri": "https://localhost:8080/"
        },
        "collapsed": true,
        "id": "n2_xTZuq-x2U",
        "outputId": "b8456372-14ef-4f4f-b30f-ec980a5ada6f"
      },
      "outputs": [],
      "source": [
        "! pip install -r requirements.txt"
      ]
    },
    {
      "cell_type": "code",
      "execution_count": null,
      "metadata": {
        "colab": {
          "base_uri": "https://localhost:8080/"
        },
        "id": "fqi0MeSO_ycA",
        "outputId": "fdcd67c7-3c56-462d-d7be-fa1439ec8168"
      },
      "outputs": [],
      "source": [
        "import kagglehub\n",
        "\n",
        "# Download latest version\n",
        "path = kagglehub.dataset_download(\"soumikrakshit/classical-music-midi\")\n",
        "\n",
        "print(\"Path to dataset files:\", path)"
      ]
    },
    {
      "cell_type": "code",
      "execution_count": null,
      "metadata": {
        "colab": {
          "base_uri": "https://localhost:8080/"
        },
        "id": "YlQBtdyBASVr",
        "outputId": "9f67f420-13c8-40e8-b073-fd0d3d854207"
      },
      "outputs": [],
      "source": [
        "! git pull"
      ]
    },
    {
      "cell_type": "code",
      "execution_count": null,
      "metadata": {
        "colab": {
          "base_uri": "https://localhost:8080/"
        },
        "id": "co_OeOmO_-K-",
        "outputId": "ee7ea8f4-1e11-4e74-f152-26cf83682547"
      },
      "outputs": [],
      "source": [
        "! python main.py --data={path} --pipeline.train_gpt=False --gpt_trainer.epochs=1 --gpt_trainer.batch_size=32 --model.rope=False --model.pretrained=../gpt_4_4_4.pt"
      ]
    },
    {
      "cell_type": "code",
      "execution_count": null,
      "metadata": {
        "id": "7QTMtUpO__4u"
      },
      "outputs": [],
      "source": []
    }
  ],
  "metadata": {
    "accelerator": "GPU",
    "colab": {
      "gpuType": "T4",
      "provenance": []
    },
    "kernelspec": {
      "display_name": "Python 3",
      "name": "python3"
    },
    "language_info": {
      "name": "python"
    }
  },
  "nbformat": 4,
  "nbformat_minor": 0
}
